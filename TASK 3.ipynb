{
 "cells": [
  {
   "cell_type": "code",
   "execution_count": 2,
   "id": "fae4e6c8-0737-495e-adc4-fd918165a461",
   "metadata": {},
   "outputs": [
    {
     "name": "stdin",
     "output_type": "stream",
     "text": [
      "Enter Height:  5.25\n",
      "Enter Weight:  87\n",
      "Enter Foot Size:  11\n"
     ]
    },
    {
     "name": "stdout",
     "output_type": "stream",
     "text": [
      "The predicted gender is: male\n",
      "New entry added and classifier retrained.\n"
     ]
    },
    {
     "name": "stdin",
     "output_type": "stream",
     "text": [
      "Do you want to add another entry? (yes/no):  YES\n",
      "Enter Height:  6.23\n",
      "Enter Weight:  40\n",
      "Enter Foot Size:  9\n"
     ]
    },
    {
     "name": "stdout",
     "output_type": "stream",
     "text": [
      "The predicted gender is: female\n",
      "New entry added and classifier retrained.\n"
     ]
    },
    {
     "name": "stdin",
     "output_type": "stream",
     "text": [
      "Do you want to add another entry? (yes/no):  NO\n"
     ]
    },
    {
     "name": "stdout",
     "output_type": "stream",
     "text": [
      "\n",
      "Updated Dataset:\n",
      "[[  1.     6.   180.    12.  ]\n",
      " [  1.     5.92 190.    11.  ]\n",
      " [  1.     5.58 170.    12.  ]\n",
      " [  1.     5.92 165.    10.  ]\n",
      " [  0.     5.   100.     6.  ]\n",
      " [  0.     5.5  150.     8.  ]\n",
      " [  0.     5.42 130.     7.  ]\n",
      " [  0.     5.75 150.     9.  ]\n",
      " [  1.     5.25  87.    11.  ]\n",
      " [  0.     6.23  40.     9.  ]]\n"
     ]
    }
   ],
   "source": [
    "import numpy as np\n",
    "from sklearn.tree import DecisionTreeClassifier\n",
    "\n",
    "# Dataset\n",
    "data = [\n",
    "    [\"male\", 6.00, 180, 12],\n",
    "    [\"male\", 5.92, 190, 11],\n",
    "    [\"male\", 5.58, 170, 12],\n",
    "    [\"male\", 5.92, 165, 10],\n",
    "    [\"female\", 5.00, 100, 6],\n",
    "    [\"female\", 5.50, 150, 8],\n",
    "    [\"female\", 5.42, 130, 7],\n",
    "    [\"female\", 5.75, 150, 9],\n",
    "]\n",
    "\n",
    "# Converting Gender column to numeric (male = 1, female = 0)\n",
    "for row in data:\n",
    "    row[0] = 1 if row[0] == \"male\" else 0\n",
    "\n",
    "# Convert the data to a NumPy array\n",
    "data = np.array(data)\n",
    "\n",
    "# Splitting features (X) and labels (y)\n",
    "X = data[:, 1:4].astype(float)  # Features: Height, Weight, Foot_Size\n",
    "y = data[:, 0].astype(int)      # Labels: Gender\n",
    "\n",
    "# Train the Decision Tree Classifier\n",
    "clf = DecisionTreeClassifier()\n",
    "clf.fit(X, y)\n",
    "\n",
    "# Function to predict and update dataset\n",
    "def predict_and_add(height, weight, foot_size):\n",
    "    global X, y, data, clf\n",
    "    # Predict gender\n",
    "    prediction = clf.predict([[height, weight, foot_size]])\n",
    "    predicted_gender = \"male\" if prediction[0] == 1 else \"female\"\n",
    "    print(f\"The predicted gender is: {predicted_gender}\")\n",
    "    \n",
    "    # Add the new entry to the dataset\n",
    "    new_entry = [1 if predicted_gender == \"male\" else 0, height, weight, foot_size]\n",
    "    data = np.vstack([data, new_entry])\n",
    "    X = data[:, 1:4].astype(float)\n",
    "    y = data[:, 0].astype(int)\n",
    "    \n",
    "    # Retrain the classifier with the updated dataset\n",
    "    clf.fit(X, y)\n",
    "    print(\"New entry added and classifier retrained.\")\n",
    "\n",
    "# Example usage\n",
    "while True:\n",
    "    new_height = float(input(\"Enter Height: \"))\n",
    "    new_weight = float(input(\"Enter Weight: \"))\n",
    "    new_foot_size = float(input(\"Enter Foot Size: \"))\n",
    "    \n",
    "    predict_and_add(new_height, new_weight, new_foot_size)\n",
    "    \n",
    "    cont = input(\"Do you want to add another entry? (yes/no): \").strip().lower()\n",
    "    if cont != \"yes\":\n",
    "        break\n",
    "\n",
    "# Display the updated dataset\n",
    "print(\"\\nUpdated Dataset:\")\n",
    "print(data)\n"
   ]
  },
  {
   "cell_type": "code",
   "execution_count": null,
   "id": "7d551769-3e73-4d04-84f7-6bb408bf25a2",
   "metadata": {},
   "outputs": [],
   "source": []
  }
 ],
 "metadata": {
  "kernelspec": {
   "display_name": "Python 3 (ipykernel)",
   "language": "python",
   "name": "python3"
  },
  "language_info": {
   "codemirror_mode": {
    "name": "ipython",
    "version": 3
   },
   "file_extension": ".py",
   "mimetype": "text/x-python",
   "name": "python",
   "nbconvert_exporter": "python",
   "pygments_lexer": "ipython3",
   "version": "3.12.7"
  }
 },
 "nbformat": 4,
 "nbformat_minor": 5
}
