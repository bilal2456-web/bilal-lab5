{
 "cells": [
  {
   "cell_type": "code",
   "execution_count": 1,
   "id": "b11e3553-d9ff-4ce9-9d71-824904ab6031",
   "metadata": {},
   "outputs": [
    {
     "name": "stdin",
     "output_type": "stream",
     "text": [
      "Enter Height:  20\n",
      "Enter Weight:  40\n",
      "Enter Foot Size:  41\n"
     ]
    },
    {
     "name": "stdout",
     "output_type": "stream",
     "text": [
      "The predicted gender is: male\n"
     ]
    },
    {
     "name": "stderr",
     "output_type": "stream",
     "text": [
      "C:\\Users\\CW\\anaconda3\\Lib\\site-packages\\sklearn\\base.py:493: UserWarning: X does not have valid feature names, but DecisionTreeClassifier was fitted with feature names\n",
      "  warnings.warn(\n"
     ]
    }
   ],
   "source": [
    "# Importing necessary libraries\n",
    "import pandas as pd\n",
    "from sklearn.tree import DecisionTreeClassifier\n",
    "from sklearn.preprocessing import LabelEncoder\n",
    "\n",
    "# Defining the dataset\n",
    "data = {\n",
    "    \"Gender\": [\"male\", \"male\", \"male\", \"male\", \"female\", \"female\", \"female\", \"female\"],\n",
    "    \"Height\": [6.00, 5.92, 5.58, 5.92, 5.00, 5.50, 5.42, 5.75],\n",
    "    \"Weight\": [180, 190, 170, 165, 100, 150, 130, 150],\n",
    "    \"Foot_Size\": [12, 11, 12, 10, 6, 8, 7, 9]\n",
    "}\n",
    "\n",
    "# Creating a DataFrame\n",
    "df = pd.DataFrame(data)\n",
    "\n",
    "# Encoding the Gender column (male: 1, female: 0)\n",
    "label_encoder = LabelEncoder()\n",
    "df[\"Gender\"] = label_encoder.fit_transform(df[\"Gender\"])\n",
    "\n",
    "# Splitting the features and target variable\n",
    "X = df[[\"Height\", \"Weight\", \"Foot_Size\"]]\n",
    "y = df[\"Gender\"]\n",
    "\n",
    "# Training the Decision Tree Classifier\n",
    "clf = DecisionTreeClassifier()\n",
    "clf.fit(X, y)\n",
    "\n",
    "# Function to predict gender\n",
    "def predict_gender(height, weight, foot_size):\n",
    "    # Making the prediction\n",
    "    prediction = clf.predict([[height, weight, foot_size]])\n",
    "    # Decoding the prediction back to gender label\n",
    "    return label_encoder.inverse_transform(prediction)[0]\n",
    "\n",
    "# Example usage\n",
    "# Input new data for prediction\n",
    "new_height = float(input(\"Enter Height: \"))\n",
    "new_weight = float(input(\"Enter Weight: \"))\n",
    "new_foot_size = float(input(\"Enter Foot Size: \"))\n",
    "\n",
    "# Predict and display result\n",
    "predicted_gender = predict_gender(new_height, new_weight, new_foot_size)\n",
    "print(f\"The predicted gender is: {predicted_gender}\")\n"
   ]
  },
  {
   "cell_type": "code",
   "execution_count": null,
   "id": "ee2d3382-b9e1-434a-906d-2018602104f6",
   "metadata": {},
   "outputs": [],
   "source": []
  }
 ],
 "metadata": {
  "kernelspec": {
   "display_name": "Python 3 (ipykernel)",
   "language": "python",
   "name": "python3"
  },
  "language_info": {
   "codemirror_mode": {
    "name": "ipython",
    "version": 3
   },
   "file_extension": ".py",
   "mimetype": "text/x-python",
   "name": "python",
   "nbconvert_exporter": "python",
   "pygments_lexer": "ipython3",
   "version": "3.12.7"
  }
 },
 "nbformat": 4,
 "nbformat_minor": 5
}
